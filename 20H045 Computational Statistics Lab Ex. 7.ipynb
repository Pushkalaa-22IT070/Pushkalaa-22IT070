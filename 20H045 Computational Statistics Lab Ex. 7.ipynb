{
 "cells": [
  {
   "cell_type": "markdown",
   "id": "1e44bdf9",
   "metadata": {},
   "source": [
    "# Programs and Output:"
   ]
  },
  {
   "cell_type": "code",
   "execution_count": 6,
   "id": "742da966",
   "metadata": {},
   "outputs": [
    {
     "data": {
      "text/html": [
       "<div>\n",
       "<style scoped>\n",
       "    .dataframe tbody tr th:only-of-type {\n",
       "        vertical-align: middle;\n",
       "    }\n",
       "\n",
       "    .dataframe tbody tr th {\n",
       "        vertical-align: top;\n",
       "    }\n",
       "\n",
       "    .dataframe thead th {\n",
       "        text-align: right;\n",
       "    }\n",
       "</style>\n",
       "<table border=\"1\" class=\"dataframe\">\n",
       "  <thead>\n",
       "    <tr style=\"text-align: right;\">\n",
       "      <th></th>\n",
       "      <th>id</th>\n",
       "      <th>member_id</th>\n",
       "      <th>loan_amnt</th>\n",
       "      <th>funded_amnt</th>\n",
       "      <th>funded_amnt_inv</th>\n",
       "      <th>term</th>\n",
       "      <th>int_rate</th>\n",
       "      <th>installment</th>\n",
       "      <th>grade</th>\n",
       "      <th>sub_grade</th>\n",
       "      <th>home_ownership</th>\n",
       "      <th>annual_inc</th>\n",
       "      <th>verification_status</th>\n",
       "      <th>issue_d</th>\n",
       "      <th>loan_status</th>\n",
       "      <th>pymnt_plan</th>\n",
       "      <th>purpose</th>\n",
       "      <th>title</th>\n",
       "      <th>application_type</th>\n",
       "    </tr>\n",
       "  </thead>\n",
       "  <tbody>\n",
       "    <tr>\n",
       "      <th>0</th>\n",
       "      <td>1077501</td>\n",
       "      <td>1296599</td>\n",
       "      <td>5000</td>\n",
       "      <td>5000</td>\n",
       "      <td>4975.0</td>\n",
       "      <td>36 months</td>\n",
       "      <td>10.65</td>\n",
       "      <td>162.87</td>\n",
       "      <td>B</td>\n",
       "      <td>B2</td>\n",
       "      <td>RENT</td>\n",
       "      <td>24000.0</td>\n",
       "      <td>Verified</td>\n",
       "      <td>Dec-11</td>\n",
       "      <td>Fully Paid</td>\n",
       "      <td>n</td>\n",
       "      <td>credit_card</td>\n",
       "      <td>Computer</td>\n",
       "      <td>INDIVIDUAL</td>\n",
       "    </tr>\n",
       "    <tr>\n",
       "      <th>1</th>\n",
       "      <td>1077430</td>\n",
       "      <td>1314167</td>\n",
       "      <td>2500</td>\n",
       "      <td>2500</td>\n",
       "      <td>2500.0</td>\n",
       "      <td>60 months</td>\n",
       "      <td>15.27</td>\n",
       "      <td>59.83</td>\n",
       "      <td>C</td>\n",
       "      <td>C4</td>\n",
       "      <td>RENT</td>\n",
       "      <td>30000.0</td>\n",
       "      <td>Source Verified</td>\n",
       "      <td>Dec-11</td>\n",
       "      <td>Charged Off</td>\n",
       "      <td>n</td>\n",
       "      <td>car</td>\n",
       "      <td>bike</td>\n",
       "      <td>INDIVIDUAL</td>\n",
       "    </tr>\n",
       "    <tr>\n",
       "      <th>2</th>\n",
       "      <td>1077175</td>\n",
       "      <td>1313524</td>\n",
       "      <td>2400</td>\n",
       "      <td>2400</td>\n",
       "      <td>2400.0</td>\n",
       "      <td>36 months</td>\n",
       "      <td>15.96</td>\n",
       "      <td>84.33</td>\n",
       "      <td>C</td>\n",
       "      <td>C5</td>\n",
       "      <td>RENT</td>\n",
       "      <td>12252.0</td>\n",
       "      <td>Not Verified</td>\n",
       "      <td>Dec-11</td>\n",
       "      <td>Fully Paid</td>\n",
       "      <td>n</td>\n",
       "      <td>small_business</td>\n",
       "      <td>real estate business</td>\n",
       "      <td>INDIVIDUAL</td>\n",
       "    </tr>\n",
       "    <tr>\n",
       "      <th>3</th>\n",
       "      <td>1076863</td>\n",
       "      <td>1277178</td>\n",
       "      <td>10000</td>\n",
       "      <td>10000</td>\n",
       "      <td>10000.0</td>\n",
       "      <td>36 months</td>\n",
       "      <td>13.49</td>\n",
       "      <td>339.31</td>\n",
       "      <td>C</td>\n",
       "      <td>C1</td>\n",
       "      <td>RENT</td>\n",
       "      <td>49200.0</td>\n",
       "      <td>Source Verified</td>\n",
       "      <td>Dec-11</td>\n",
       "      <td>Fully Paid</td>\n",
       "      <td>n</td>\n",
       "      <td>other</td>\n",
       "      <td>personel</td>\n",
       "      <td>INDIVIDUAL</td>\n",
       "    </tr>\n",
       "    <tr>\n",
       "      <th>4</th>\n",
       "      <td>1075358</td>\n",
       "      <td>1311748</td>\n",
       "      <td>3000</td>\n",
       "      <td>3000</td>\n",
       "      <td>3000.0</td>\n",
       "      <td>60 months</td>\n",
       "      <td>12.69</td>\n",
       "      <td>67.79</td>\n",
       "      <td>B</td>\n",
       "      <td>B5</td>\n",
       "      <td>RENT</td>\n",
       "      <td>80000.0</td>\n",
       "      <td>Source Verified</td>\n",
       "      <td>Dec-11</td>\n",
       "      <td>Current</td>\n",
       "      <td>n</td>\n",
       "      <td>other</td>\n",
       "      <td>Personal</td>\n",
       "      <td>INDIVIDUAL</td>\n",
       "    </tr>\n",
       "  </tbody>\n",
       "</table>\n",
       "</div>"
      ],
      "text/plain": [
       "        id  member_id  loan_amnt  funded_amnt  funded_amnt_inv        term  \\\n",
       "0  1077501    1296599       5000         5000           4975.0   36 months   \n",
       "1  1077430    1314167       2500         2500           2500.0   60 months   \n",
       "2  1077175    1313524       2400         2400           2400.0   36 months   \n",
       "3  1076863    1277178      10000        10000          10000.0   36 months   \n",
       "4  1075358    1311748       3000         3000           3000.0   60 months   \n",
       "\n",
       "   int_rate  installment grade sub_grade home_ownership  annual_inc  \\\n",
       "0     10.65       162.87     B        B2           RENT     24000.0   \n",
       "1     15.27        59.83     C        C4           RENT     30000.0   \n",
       "2     15.96        84.33     C        C5           RENT     12252.0   \n",
       "3     13.49       339.31     C        C1           RENT     49200.0   \n",
       "4     12.69        67.79     B        B5           RENT     80000.0   \n",
       "\n",
       "  verification_status issue_d  loan_status pymnt_plan         purpose  \\\n",
       "0            Verified  Dec-11   Fully Paid          n     credit_card   \n",
       "1     Source Verified  Dec-11  Charged Off          n             car   \n",
       "2        Not Verified  Dec-11   Fully Paid          n  small_business   \n",
       "3     Source Verified  Dec-11   Fully Paid          n           other   \n",
       "4     Source Verified  Dec-11      Current          n           other   \n",
       "\n",
       "                  title application_type  \n",
       "0              Computer       INDIVIDUAL  \n",
       "1                  bike       INDIVIDUAL  \n",
       "2  real estate business       INDIVIDUAL  \n",
       "3              personel       INDIVIDUAL  \n",
       "4              Personal       INDIVIDUAL  "
      ]
     },
     "execution_count": 6,
     "metadata": {},
     "output_type": "execute_result"
    }
   ],
   "source": [
    "import pandas as pd\n",
    "import numpy as np\n",
    "import matplotlib.pyplot as plt\n",
    "\n",
    "df = pd.read_csv(\"loan_small.csv\")\n",
    "df.head()"
   ]
  },
  {
   "cell_type": "raw",
   "id": "2a93a562",
   "metadata": {},
   "source": [
    "Missing Value Ratio:"
   ]
  },
  {
   "cell_type": "code",
   "execution_count": 7,
   "id": "cf1041a8",
   "metadata": {},
   "outputs": [
    {
     "data": {
      "text/plain": [
       "id                     0.0\n",
       "member_id              0.0\n",
       "loan_amnt              0.0\n",
       "funded_amnt            0.0\n",
       "funded_amnt_inv        0.0\n",
       "term                   0.0\n",
       "int_rate               0.0\n",
       "installment            0.0\n",
       "grade                  0.0\n",
       "sub_grade              0.0\n",
       "home_ownership         0.0\n",
       "annual_inc             0.0\n",
       "verification_status    0.0\n",
       "issue_d                0.0\n",
       "loan_status            0.0\n",
       "pymnt_plan             0.0\n",
       "purpose                0.0\n",
       "title                  0.0\n",
       "application_type       0.0\n",
       "dtype: float64"
      ]
     },
     "execution_count": 7,
     "metadata": {},
     "output_type": "execute_result"
    }
   ],
   "source": [
    "# checking the percentage of missing values in each variable\n",
    "df.isnull().sum()/len(df)*100"
   ]
  },
  {
   "cell_type": "raw",
   "id": "ae451740",
   "metadata": {},
   "source": [
    "Inference:\n",
    "Since every column has 0.0 % of missing values we can't set Threshold value."
   ]
  },
  {
   "cell_type": "markdown",
   "id": "1941daf0",
   "metadata": {},
   "source": []
  },
  {
   "cell_type": "raw",
   "id": "210e7f02",
   "metadata": {},
   "source": [
    "Low Variance Filter:"
   ]
  },
  {
   "cell_type": "code",
   "execution_count": 10,
   "id": "ea402f71",
   "metadata": {},
   "outputs": [
    {
     "data": {
      "text/plain": [
       "id                 7.226177e+09\n",
       "member_id          8.865661e+09\n",
       "loan_amnt          7.200038e+07\n",
       "funded_amnt        6.861574e+07\n",
       "funded_amnt_inv    6.734106e+07\n",
       "int_rate           1.803794e+01\n",
       "installment        5.126174e+04\n",
       "annual_inc         2.385052e+09\n",
       "dtype: float64"
      ]
     },
     "execution_count": 10,
     "metadata": {},
     "output_type": "execute_result"
    }
   ],
   "source": [
    "var = df.var()\n",
    "var"
   ]
  },
  {
   "cell_type": "code",
   "execution_count": 15,
   "id": "d1151c6f",
   "metadata": {},
   "outputs": [
    {
     "data": {
      "text/plain": [
       "['id',\n",
       " 'member_id',\n",
       " 'loan_amnt',\n",
       " 'funded_amnt',\n",
       " 'funded_amnt_inv',\n",
       " 'term',\n",
       " 'int_rate',\n",
       " 'installment']"
      ]
     },
     "execution_count": 15,
     "metadata": {},
     "output_type": "execute_result"
    }
   ],
   "source": [
    "columns = df.columns\n",
    "column = []\n",
    "for i in range(len(var)):\n",
    "    if var[i] >= 10:\n",
    "        column.append(columns[i])\n",
    "        \n",
    "column"
   ]
  },
  {
   "cell_type": "code",
   "execution_count": 16,
   "id": "ca074fd1",
   "metadata": {},
   "outputs": [
    {
     "data": {
      "text/html": [
       "<div>\n",
       "<style scoped>\n",
       "    .dataframe tbody tr th:only-of-type {\n",
       "        vertical-align: middle;\n",
       "    }\n",
       "\n",
       "    .dataframe tbody tr th {\n",
       "        vertical-align: top;\n",
       "    }\n",
       "\n",
       "    .dataframe thead th {\n",
       "        text-align: right;\n",
       "    }\n",
       "</style>\n",
       "<table border=\"1\" class=\"dataframe\">\n",
       "  <thead>\n",
       "    <tr style=\"text-align: right;\">\n",
       "      <th></th>\n",
       "      <th>id</th>\n",
       "      <th>member_id</th>\n",
       "      <th>loan_amnt</th>\n",
       "      <th>funded_amnt</th>\n",
       "      <th>funded_amnt_inv</th>\n",
       "      <th>term</th>\n",
       "      <th>int_rate</th>\n",
       "      <th>installment</th>\n",
       "    </tr>\n",
       "  </thead>\n",
       "  <tbody>\n",
       "    <tr>\n",
       "      <th>0</th>\n",
       "      <td>1077501</td>\n",
       "      <td>1296599</td>\n",
       "      <td>5000</td>\n",
       "      <td>5000</td>\n",
       "      <td>4975.00000</td>\n",
       "      <td>36 months</td>\n",
       "      <td>10.65</td>\n",
       "      <td>162.87</td>\n",
       "    </tr>\n",
       "    <tr>\n",
       "      <th>1</th>\n",
       "      <td>1077430</td>\n",
       "      <td>1314167</td>\n",
       "      <td>2500</td>\n",
       "      <td>2500</td>\n",
       "      <td>2500.00000</td>\n",
       "      <td>60 months</td>\n",
       "      <td>15.27</td>\n",
       "      <td>59.83</td>\n",
       "    </tr>\n",
       "    <tr>\n",
       "      <th>2</th>\n",
       "      <td>1077175</td>\n",
       "      <td>1313524</td>\n",
       "      <td>2400</td>\n",
       "      <td>2400</td>\n",
       "      <td>2400.00000</td>\n",
       "      <td>36 months</td>\n",
       "      <td>15.96</td>\n",
       "      <td>84.33</td>\n",
       "    </tr>\n",
       "    <tr>\n",
       "      <th>3</th>\n",
       "      <td>1076863</td>\n",
       "      <td>1277178</td>\n",
       "      <td>10000</td>\n",
       "      <td>10000</td>\n",
       "      <td>10000.00000</td>\n",
       "      <td>36 months</td>\n",
       "      <td>13.49</td>\n",
       "      <td>339.31</td>\n",
       "    </tr>\n",
       "    <tr>\n",
       "      <th>4</th>\n",
       "      <td>1075358</td>\n",
       "      <td>1311748</td>\n",
       "      <td>3000</td>\n",
       "      <td>3000</td>\n",
       "      <td>3000.00000</td>\n",
       "      <td>60 months</td>\n",
       "      <td>12.69</td>\n",
       "      <td>67.79</td>\n",
       "    </tr>\n",
       "    <tr>\n",
       "      <th>...</th>\n",
       "      <td>...</td>\n",
       "      <td>...</td>\n",
       "      <td>...</td>\n",
       "      <td>...</td>\n",
       "      <td>...</td>\n",
       "      <td>...</td>\n",
       "      <td>...</td>\n",
       "      <td>...</td>\n",
       "    </tr>\n",
       "    <tr>\n",
       "      <th>10992</th>\n",
       "      <td>822880</td>\n",
       "      <td>1031392</td>\n",
       "      <td>2000</td>\n",
       "      <td>2000</td>\n",
       "      <td>2000.00000</td>\n",
       "      <td>60 months</td>\n",
       "      <td>11.49</td>\n",
       "      <td>43.98</td>\n",
       "    </tr>\n",
       "    <tr>\n",
       "      <th>10993</th>\n",
       "      <td>822087</td>\n",
       "      <td>1030499</td>\n",
       "      <td>35000</td>\n",
       "      <td>35000</td>\n",
       "      <td>30568.20639</td>\n",
       "      <td>60 months</td>\n",
       "      <td>13.49</td>\n",
       "      <td>805.17</td>\n",
       "    </tr>\n",
       "    <tr>\n",
       "      <th>10994</th>\n",
       "      <td>822495</td>\n",
       "      <td>1030936</td>\n",
       "      <td>6000</td>\n",
       "      <td>6000</td>\n",
       "      <td>6000.00000</td>\n",
       "      <td>36 months</td>\n",
       "      <td>14.79</td>\n",
       "      <td>207.38</td>\n",
       "    </tr>\n",
       "    <tr>\n",
       "      <th>10995</th>\n",
       "      <td>822845</td>\n",
       "      <td>1031350</td>\n",
       "      <td>30000</td>\n",
       "      <td>30000</td>\n",
       "      <td>27212.91432</td>\n",
       "      <td>60 months</td>\n",
       "      <td>19.29</td>\n",
       "      <td>783.02</td>\n",
       "    </tr>\n",
       "    <tr>\n",
       "      <th>10996</th>\n",
       "      <td>822778</td>\n",
       "      <td>1031248</td>\n",
       "      <td>2400</td>\n",
       "      <td>2400</td>\n",
       "      <td>2400.00000</td>\n",
       "      <td>36 months</td>\n",
       "      <td>15.23</td>\n",
       "      <td>83.47</td>\n",
       "    </tr>\n",
       "  </tbody>\n",
       "</table>\n",
       "<p>10997 rows × 8 columns</p>\n",
       "</div>"
      ],
      "text/plain": [
       "            id  member_id  loan_amnt  funded_amnt  funded_amnt_inv  \\\n",
       "0      1077501    1296599       5000         5000       4975.00000   \n",
       "1      1077430    1314167       2500         2500       2500.00000   \n",
       "2      1077175    1313524       2400         2400       2400.00000   \n",
       "3      1076863    1277178      10000        10000      10000.00000   \n",
       "4      1075358    1311748       3000         3000       3000.00000   \n",
       "...        ...        ...        ...          ...              ...   \n",
       "10992   822880    1031392       2000         2000       2000.00000   \n",
       "10993   822087    1030499      35000        35000      30568.20639   \n",
       "10994   822495    1030936       6000         6000       6000.00000   \n",
       "10995   822845    1031350      30000        30000      27212.91432   \n",
       "10996   822778    1031248       2400         2400       2400.00000   \n",
       "\n",
       "             term  int_rate  installment  \n",
       "0       36 months     10.65       162.87  \n",
       "1       60 months     15.27        59.83  \n",
       "2       36 months     15.96        84.33  \n",
       "3       36 months     13.49       339.31  \n",
       "4       60 months     12.69        67.79  \n",
       "...           ...       ...          ...  \n",
       "10992   60 months     11.49        43.98  \n",
       "10993   60 months     13.49       805.17  \n",
       "10994   36 months     14.79       207.38  \n",
       "10995   60 months     19.29       783.02  \n",
       "10996   36 months     15.23        83.47  \n",
       "\n",
       "[10997 rows x 8 columns]"
      ]
     },
     "execution_count": 16,
     "metadata": {},
     "output_type": "execute_result"
    }
   ],
   "source": [
    "df[column]"
   ]
  },
  {
   "cell_type": "raw",
   "id": "2582f51b",
   "metadata": {},
   "source": [
    "Inference:\n",
    "The above code gives us the list of variables that have a variance greater than 10."
   ]
  },
  {
   "cell_type": "markdown",
   "id": "0ff08548",
   "metadata": {},
   "source": []
  },
  {
   "cell_type": "raw",
   "id": "bb6a390a",
   "metadata": {},
   "source": [
    "High Correlation Filter:"
   ]
  },
  {
   "cell_type": "code",
   "execution_count": 17,
   "id": "4bbf4296",
   "metadata": {},
   "outputs": [
    {
     "data": {
      "text/html": [
       "<div>\n",
       "<style scoped>\n",
       "    .dataframe tbody tr th:only-of-type {\n",
       "        vertical-align: middle;\n",
       "    }\n",
       "\n",
       "    .dataframe tbody tr th {\n",
       "        vertical-align: top;\n",
       "    }\n",
       "\n",
       "    .dataframe thead th {\n",
       "        text-align: right;\n",
       "    }\n",
       "</style>\n",
       "<table border=\"1\" class=\"dataframe\">\n",
       "  <thead>\n",
       "    <tr style=\"text-align: right;\">\n",
       "      <th></th>\n",
       "      <th>member_id</th>\n",
       "      <th>loan_amnt</th>\n",
       "      <th>funded_amnt</th>\n",
       "      <th>funded_amnt_inv</th>\n",
       "      <th>int_rate</th>\n",
       "      <th>installment</th>\n",
       "      <th>annual_inc</th>\n",
       "    </tr>\n",
       "  </thead>\n",
       "  <tbody>\n",
       "    <tr>\n",
       "      <th>member_id</th>\n",
       "      <td>1.000000</td>\n",
       "      <td>0.017974</td>\n",
       "      <td>0.022528</td>\n",
       "      <td>0.032001</td>\n",
       "      <td>0.076294</td>\n",
       "      <td>0.043220</td>\n",
       "      <td>-0.056870</td>\n",
       "    </tr>\n",
       "    <tr>\n",
       "      <th>loan_amnt</th>\n",
       "      <td>0.017974</td>\n",
       "      <td>1.000000</td>\n",
       "      <td>0.990342</td>\n",
       "      <td>0.985953</td>\n",
       "      <td>0.330114</td>\n",
       "      <td>0.941676</td>\n",
       "      <td>0.369686</td>\n",
       "    </tr>\n",
       "    <tr>\n",
       "      <th>funded_amnt</th>\n",
       "      <td>0.022528</td>\n",
       "      <td>0.990342</td>\n",
       "      <td>1.000000</td>\n",
       "      <td>0.995751</td>\n",
       "      <td>0.326499</td>\n",
       "      <td>0.956816</td>\n",
       "      <td>0.368660</td>\n",
       "    </tr>\n",
       "    <tr>\n",
       "      <th>funded_amnt_inv</th>\n",
       "      <td>0.032001</td>\n",
       "      <td>0.985953</td>\n",
       "      <td>0.995751</td>\n",
       "      <td>1.000000</td>\n",
       "      <td>0.324145</td>\n",
       "      <td>0.954776</td>\n",
       "      <td>0.366954</td>\n",
       "    </tr>\n",
       "    <tr>\n",
       "      <th>int_rate</th>\n",
       "      <td>0.076294</td>\n",
       "      <td>0.330114</td>\n",
       "      <td>0.326499</td>\n",
       "      <td>0.324145</td>\n",
       "      <td>1.000000</td>\n",
       "      <td>0.289154</td>\n",
       "      <td>0.092934</td>\n",
       "    </tr>\n",
       "    <tr>\n",
       "      <th>installment</th>\n",
       "      <td>0.043220</td>\n",
       "      <td>0.941676</td>\n",
       "      <td>0.956816</td>\n",
       "      <td>0.954776</td>\n",
       "      <td>0.289154</td>\n",
       "      <td>1.000000</td>\n",
       "      <td>0.381331</td>\n",
       "    </tr>\n",
       "    <tr>\n",
       "      <th>annual_inc</th>\n",
       "      <td>-0.056870</td>\n",
       "      <td>0.369686</td>\n",
       "      <td>0.368660</td>\n",
       "      <td>0.366954</td>\n",
       "      <td>0.092934</td>\n",
       "      <td>0.381331</td>\n",
       "      <td>1.000000</td>\n",
       "    </tr>\n",
       "  </tbody>\n",
       "</table>\n",
       "</div>"
      ],
      "text/plain": [
       "                 member_id  loan_amnt  funded_amnt  funded_amnt_inv  int_rate  \\\n",
       "member_id         1.000000   0.017974     0.022528         0.032001  0.076294   \n",
       "loan_amnt         0.017974   1.000000     0.990342         0.985953  0.330114   \n",
       "funded_amnt       0.022528   0.990342     1.000000         0.995751  0.326499   \n",
       "funded_amnt_inv   0.032001   0.985953     0.995751         1.000000  0.324145   \n",
       "int_rate          0.076294   0.330114     0.326499         0.324145  1.000000   \n",
       "installment       0.043220   0.941676     0.956816         0.954776  0.289154   \n",
       "annual_inc       -0.056870   0.369686     0.368660         0.366954  0.092934   \n",
       "\n",
       "                 installment  annual_inc  \n",
       "member_id           0.043220   -0.056870  \n",
       "loan_amnt           0.941676    0.369686  \n",
       "funded_amnt         0.956816    0.368660  \n",
       "funded_amnt_inv     0.954776    0.366954  \n",
       "int_rate            0.289154    0.092934  \n",
       "installment         1.000000    0.381331  \n",
       "annual_inc          0.381331    1.000000  "
      ]
     },
     "execution_count": 17,
     "metadata": {},
     "output_type": "execute_result"
    }
   ],
   "source": [
    "df1 = df.drop('id', 1)\n",
    "df1.corr()"
   ]
  },
  {
   "cell_type": "raw",
   "id": "c2e0588a",
   "metadata": {},
   "source": [
    "Inference:\n",
    "We don’t have any variables with a high correlation in our dataset"
   ]
  },
  {
   "cell_type": "markdown",
   "id": "a9f187ee",
   "metadata": {},
   "source": []
  },
  {
   "cell_type": "raw",
   "id": "c7b1cfba",
   "metadata": {},
   "source": [
    "Random Forest:"
   ]
  },
  {
   "cell_type": "code",
   "execution_count": 20,
   "id": "ef1bcd4a",
   "metadata": {},
   "outputs": [
    {
     "data": {
      "text/plain": [
       "RandomForestRegressor(max_depth=10, random_state=1)"
      ]
     },
     "execution_count": 20,
     "metadata": {},
     "output_type": "execute_result"
    }
   ],
   "source": [
    "from sklearn.ensemble import RandomForestRegressor\n",
    "model = RandomForestRegressor(random_state=1, max_depth=10)\n",
    "df1=pd.get_dummies(df1)\n",
    "model.fit(df1,df.id)"
   ]
  },
  {
   "cell_type": "code",
   "execution_count": 21,
   "id": "325db849",
   "metadata": {},
   "outputs": [
    {
     "data": {
      "image/png": "[encoded data removed]",
      "text/plain": [
       "<Figure size 432x288 with 1 Axes>"
      ]
     },
     "metadata": {
      "needs_background": "light"
     },
     "output_type": "display_data"
    }
   ],
   "source": [
    "features = df1.columns\n",
    "importances = model.feature_importances_\n",
    "indices = np.argsort(importances)[-9:]  # top 10 features\n",
    "plt.title('Feature Importances')\n",
    "plt.barh(range(len(indices)), importances[indices], color='b', align='center')\n",
    "plt.yticks(range(len(indices)), [features[i] for i in indices])\n",
    "plt.xlabel('Relative Importance')\n",
    "plt.show()"
   ]
  },
  {
   "cell_type": "raw",
   "id": "d0732ef9",
   "metadata": {},
   "source": [
    "Inference:\n",
    "Based on the above graph, we can hand pick the top-most features to reduce the dimensionality in our dataset."
   ]
  },
  {
   "cell_type": "markdown",
   "id": "da668534",
   "metadata": {},
   "source": []
  },
  {
   "cell_type": "raw",
   "id": "2bf93cb2",
   "metadata": {},
   "source": [
    "Backward Feature Elimination:"
   ]
  },
  {
   "cell_type": "code",
   "execution_count": null,
   "id": "b34c18ca",
   "metadata": {},
   "outputs": [],
   "source": [
    "from sklearn.linear_model import LinearRegression\n",
    "from sklearn.feature_selection import RFE\n",
    "from sklearn import datasets\n",
    "lreg = LinearRegression()\n",
    "rfe = RFE(lreg, 10)\n",
    "rfe = rfe.fit_transform(df1, df.id)"
   ]
  },
  {
   "cell_type": "raw",
   "id": "50e6aabf",
   "metadata": {},
   "source": [
    "Forward Feature Selection:"
   ]
  },
  {
   "cell_type": "code",
   "execution_count": 27,
   "id": "6cc147c6",
   "metadata": {},
   "outputs": [
    {
     "name": "stderr",
     "output_type": "stream",
     "text": [
      "C:\\Users\\siles\\anaconda3\\lib\\site-packages\\sklearn\\feature_selection\\_univariate_selection.py:301: RuntimeWarning: divide by zero encountered in true_divide\n",
      "  corr /= X_norms\n",
      "C:\\Users\\siles\\anaconda3\\lib\\site-packages\\sklearn\\feature_selection\\_univariate_selection.py:306: RuntimeWarning: invalid value encountered in true_divide\n",
      "  F = corr ** 2 / (1 - corr ** 2) * degrees_of_freedom\n"
     ]
    }
   ],
   "source": [
    "from sklearn.feature_selection import f_regression\n",
    "ffs = f_regression(df1,df.id )"
   ]
  },
  {
   "cell_type": "code",
   "execution_count": 28,
   "id": "22b67e2a",
   "metadata": {},
   "outputs": [],
   "source": [
    "variable = [ ]\n",
    "for i in range(0,len(df1.columns)-1):\n",
    "    if ffs[0][i] >=10:\n",
    "       variable.append(df1.columns[i])"
   ]
  },
  {
   "cell_type": "code",
   "execution_count": 29,
   "id": "eeb7818e",
   "metadata": {},
   "outputs": [
    {
     "data": {
      "text/plain": [
       "['member_id',\n",
       " 'funded_amnt_inv',\n",
       " 'int_rate',\n",
       " 'installment',\n",
       " 'annual_inc',\n",
       " 'grade_A',\n",
       " 'grade_C',\n",
       " 'home_ownership_MORTGAGE',\n",
       " 'home_ownership_RENT',\n",
       " 'issue_d_Aug-11',\n",
       " 'issue_d_Dec-11',\n",
       " 'issue_d_Jul-11',\n",
       " 'issue_d_Nov-11',\n",
       " 'issue_d_Oct-11',\n",
       " 'issue_d_Sep-11',\n",
       " 'loan_status_Charged Off',\n",
       " 'loan_status_Fully Paid',\n",
       " 'purpose_credit_card',\n",
       " 'purpose_debt_consolidation',\n",
       " 'purpose_home_improvement',\n",
       " 'purpose_major_purchase',\n",
       " 'purpose_moving',\n",
       " 'title_Credit Card Loan',\n",
       " 'title_Debt',\n",
       " 'title_Debt Consolidation Loan',\n",
       " 'title_Get Rid of Timeshare',\n",
       " 'title_Lower interest rate loan',\n",
       " 'title_Refinance high interest credit card',\n",
       " 'title_Small_Business Loan',\n",
       " 'title_debt_consolidation']"
      ]
     },
     "execution_count": 29,
     "metadata": {},
     "output_type": "execute_result"
    }
   ],
   "source": [
    "variable"
   ]
  },
  {
   "cell_type": "raw",
   "id": "1e40995b",
   "metadata": {},
   "source": [
    "Inference:\n",
    "This gives us the top most variables based on the forward feature selection algorithm."
   ]
  }
 ],
 "metadata": {
  "kernelspec": {
   "display_name": "Python 3",
   "language": "python",
   "name": "python3"
  },
  "language_info": {
   "codemirror_mode": {
    "name": "ipython",
    "version": 3
   },
   "file_extension": ".py",
   "mimetype": "text/x-python",
   "name": "python",
   "nbconvert_exporter": "python",
   "pygments_lexer": "ipython3",
   "version": "3.8.8"
  }
 },
 "nbformat": 4,
 "nbformat_minor": 5
}
